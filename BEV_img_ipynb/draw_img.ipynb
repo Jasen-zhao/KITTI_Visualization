{
 "cells": [
  {
   "cell_type": "markdown",
   "metadata": {},
   "source": [
    "用于显示图片和图片上的标记情况"
   ]
  },
  {
   "cell_type": "code",
   "execution_count": 37,
   "metadata": {},
   "outputs": [],
   "source": [
    "from kitti_util import *\n",
    "import cv2\n",
    "from plot_util import *\n",
    "import ipywidgets as widgets"
   ]
  },
  {
   "cell_type": "markdown",
   "metadata": {},
   "source": [
    "执行"
   ]
  },
  {
   "cell_type": "code",
   "execution_count": 38,
   "metadata": {},
   "outputs": [
    {
     "data": {
      "application/vnd.jupyter.widget-view+json": {
       "model_id": "869d72c3dd2847bab6af0c28789ea623",
       "version_major": 2,
       "version_minor": 0
      },
      "text/plain": [
       "Button(description='下一个!', style=ButtonStyle())"
      ]
     },
     "metadata": {},
     "output_type": "display_data"
    },
    {
     "data": {
      "application/vnd.jupyter.widget-view+json": {
       "model_id": "d50cb467a9cc4e2580b33712ea3dcb0f",
       "version_major": 2,
       "version_minor": 0
      },
      "text/plain": [
       "Output()"
      ]
     },
     "metadata": {},
     "output_type": "display_data"
    }
   ],
   "source": [
    "idx = 2800\n",
    "kitti_path=\"/home/huangjiangeng/OpenPCDet/data/kitti/training\"\n",
    "\n",
    "label_name = pd.read_csv('./labels_zero/val.txt',header=None,dtype=str)\n",
    "\n",
    "button = widgets.Button(description=\"下一个!\")#按钮\n",
    "output = widgets.Output()#显示窗口\n",
    "def on_button_clicked(b):\n",
    "    with output:\n",
    "        global idx\n",
    "        output.clear_output()#清除输出\n",
    "        img_id=label_name[0].iloc[idx]\n",
    "        print(\"当前下标为%d,文件索引为%s\"%(idx,img_id))\n",
    "        #绘制\n",
    "        calib = Calibration(kitti_path+\"/calib/%s.txt\"%img_id) ## Path ## need to be changed\n",
    "        path_img = kitti_path+\"/image_2/%s.png\"%img_id\n",
    "        df = read_detection(kitti_path+\"/label_2/%s.txt\"%img_id)  #标签\n",
    "\n",
    "        image = cv2.imread(path_img)\n",
    "        ##############plot 3D box#####################\n",
    "        for o in range(len(df)):\n",
    "            corners_3d_cam2 = compute_3d_box_cam2(*df.loc[o, ['height', 'width', 'length', 'pos_x', 'pos_y', 'pos_z', 'rot_y']])\n",
    "            pts_2d = calib.project_rect_to_image(corners_3d_cam2.T)\n",
    "            image = draw_projected_box3d(image, pts_2d, color=(255,0,255), thickness=1)\n",
    "\n",
    "        plt_show_cv2_image(image)\n",
    "        idx+=2#进一步\n",
    "\n",
    "button.on_click(on_button_clicked)\n",
    "# print(output)\n",
    "display(button, output)"
   ]
  }
 ],
 "metadata": {
  "kernelspec": {
   "display_name": "Python 3.7.13 ('kitti_vis')",
   "language": "python",
   "name": "python3"
  },
  "language_info": {
   "codemirror_mode": {
    "name": "ipython",
    "version": 3
   },
   "file_extension": ".py",
   "mimetype": "text/x-python",
   "name": "python",
   "nbconvert_exporter": "python",
   "pygments_lexer": "ipython3",
   "version": "3.7.13"
  },
  "orig_nbformat": 4,
  "vscode": {
   "interpreter": {
    "hash": "ad4d040508c159270ba2f756cd7dc5f50238498ff429bd07725990c657d8e797"
   }
  }
 },
 "nbformat": 4,
 "nbformat_minor": 2
}
